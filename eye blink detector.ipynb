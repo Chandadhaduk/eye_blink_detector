{
  "nbformat": 4,
  "nbformat_minor": 0,
  "metadata": {
    "colab": {
      "name": "Copy of Untitled11.ipynb",
      "provenance": []
    },
    "kernelspec": {
      "name": "python3",
      "display_name": "Python 3"
    }
  },
  "cells": [
    {
      "cell_type": "code",
      "metadata": {
        "id": "tnexXV57HbCH",
        "colab_type": "code",
        "colab": {}
      },
      "source": [
        "# import packages required\n",
        "import argparse\n",
        "from imutils import face_utils\n",
        "import imutils\n",
        "import time\n",
        "from imutils.video import FileVideoStream\n",
        "import dlib\n",
        "import cv2\n",
        "from scipy.spatial import distance as dist\n",
        "from imutils.video import VideoStream\n",
        "import numpy as np\n",
        "\n"
      ],
      "execution_count": 0,
      "outputs": []
    },
    {
      "cell_type": "code",
      "metadata": {
        "id": "LtX-M5D9HizP",
        "colab_type": "code",
        "colab": {}
      },
      "source": [
        "def eye_aspect_ratio(eye):\n",
        "\t# computing the euclidean distance between 2 eyes\n",
        "\t# vertical eye landmarks (x, y)-coordinates\n",
        "\tA = dist.euclidean(eye[1], eye[5])\n",
        "\tB = dist.euclidean(eye[2], eye[4])\n",
        " \n",
        "\t# eye landmark (x, y)-coordinates\n",
        "\tC = dist.euclidean(eye[0], eye[3])\n",
        " \n",
        "\t# compute the eye aspect ratio\n",
        "\tear = (A + B) / (2.0 * C)\n",
        " \n",
        "\t# return the eye aspect ratio\n",
        "\treturn ear"
      ],
      "execution_count": 0,
      "outputs": []
    },
    {
      "cell_type": "code",
      "metadata": {
        "id": "x2lzF3-JHjyZ",
        "colab_type": "code",
        "colab": {}
      },
      "source": [
        "# construct the argument parse and parse the arguments\n",
        "ap = argparse.ArgumentParser()\n",
        "ap.add_argument(\"-p\", \"--shape-predictor\", required=True,\n",
        "\thelp=\"path to facial landmark predictor\")\n",
        "ap.add_argument(\"-v\", \"--video\", type=str, default=\"\",\n",
        "\thelp=\"path to input video file\")\n",
        "args = vars(ap.parse_args())"
      ],
      "execution_count": 0,
      "outputs": []
    },
    {
      "cell_type": "code",
      "metadata": {
        "id": "5paIL0lyHpyy",
        "colab_type": "code",
        "colab": {}
      },
      "source": [
        "# define two constants, one for the eye aspect ratio to indicate\n",
        "# blink and then a second constant for the number of consecutive\n",
        "# frames the eye must be below the threshold\n",
        "EYE_AR_THRESH = 0.3\n",
        "EYE_AR_CONSEC_FRAMES = 3\n",
        " \n",
        "# initialize the frame counters and the total number of blinks\n",
        "COUNTER = 0\n",
        "TOTAL = 0"
      ],
      "execution_count": 0,
      "outputs": []
    },
    {
      "cell_type": "code",
      "metadata": {
        "id": "4pzzffzpHvJ8",
        "colab_type": "code",
        "colab": {}
      },
      "source": [
        "  # initialize dlib's face detector (HOG-based) and then create\n",
        "# the facial landmark predictor\n",
        "print(\"[INFO] loading facial landmark predictor...\")\n",
        "detector = dlib.get_frontal_face_detector()\n",
        "predictor = dlib.shape_predictor(args[\"shape_predictor\"])"
      ],
      "execution_count": 0,
      "outputs": []
    },
    {
      "cell_type": "code",
      "metadata": {
        "id": "AF0O2RQ6Hvib",
        "colab_type": "code",
        "colab": {}
      },
      "source": [
        "# grab the indexes of the facial landmarks for the left and\n",
        "# right eye, respectively\n",
        "(lStart, lEnd) = face_utils.FACIAL_LANDMARKS_IDXS[\"left_eye\"]\n",
        "(rStart, rEnd) = face_utils.FACIAL_LANDMARKS_IDXS[\"right_eye\"]"
      ],
      "execution_count": 0,
      "outputs": []
    },
    {
      "cell_type": "code",
      "metadata": {
        "id": "vL9hA5bOH306",
        "colab_type": "code",
        "colab": {}
      },
      "source": [
        "# start the video stream thread\n",
        "print(\"[INFO] starting video stream thread...\")\n",
        "vs = FileVideoStream(args[\"video\"]).start()\n",
        "fileStream = True\n",
        "# vs = VideoStream(src=0).start()\n",
        "# vs = VideoStream(usePiCamera=True).start()\n",
        "# fileStream = False\n",
        "time.sleep(1.0)"
      ],
      "execution_count": 0,
      "outputs": []
    },
    {
      "cell_type": "code",
      "metadata": {
        "id": "m51serjSH4E7",
        "colab_type": "code",
        "colab": {}
      },
      "source": [
        "# loop over frames from the video stream\n",
        "while True:\n",
        "\t# if this is a file video stream, then we need to check if # there any more frames left in the buffer to process\n",
        "\tif fileStream and not vs.more():\n",
        "\t\tbreak\n",
        " \n",
        "\t# grab the frame from the threaded video file stream, resize it, and convert it to gray scale channels) \n",
        "\tframe = vs.read()\n",
        "\tframe = imutils.resize(frame, width=450)\n",
        "\tgray = cv2.cvtColor(frame, cv2.COLOR_BGR2GRAY)\n",
        " \n",
        "\t# detect faces in the grayscale frame\n",
        "\trects = detector(gray, 0)"
      ],
      "execution_count": 0,
      "outputs": []
    },
    {
      "cell_type": "code",
      "metadata": {
        "id": "HzzxY6PwH4Qw",
        "colab_type": "code",
        "colab": {}
      },
      "source": [
        "# loop \n",
        "\tfor rect in rects:\n",
        "\t\t# determine the facial landmarks for the face region, then convert the facial landmark (x, y)-coordinates to a NumPy array\n",
        "\t\tshape = predictor(gray, rect)\n",
        "\t\tshape = face_utils.shape_to_np(shape)\n",
        " \n",
        "\t\t# extract the left and right eye coordinates, then use the coordinates to compute the eye aspect ratio for both eyes \n",
        "\t\tleftEye = shape[lStart:lEnd]\n",
        "\t\trightEye = shape[rStart:rEnd]\n",
        "\t\tleftEAR = eye_aspect_ratio(leftEye)\n",
        "\t\trightEAR = eye_aspect_ratio(rightEye)\n",
        " \n",
        "\t\t# average the eye aspect ratio together for both eyes\n",
        "\t\tear = (leftEAR + rightEAR) / 2.0"
      ],
      "execution_count": 0,
      "outputs": []
    },
    {
      "cell_type": "code",
      "metadata": {
        "id": "HXR2zYw8IOe_",
        "colab_type": "code",
        "colab": {}
      },
      "source": [
        "\n",
        "\t\tleftEyeHull = cv2.convexHull(leftEye)\n",
        "\t\trightEyeHull = cv2.convexHull(rightEye)\n",
        "\t\tcv2.drawContours(frame, [leftEyeHull], -1, (0, 255, 0), 1)\n",
        "\t\tcv2.drawContours(frame, [rightEyeHull], -1, (0, 255, 0), 1)"
      ],
      "execution_count": 0,
      "outputs": []
    },
    {
      "cell_type": "code",
      "metadata": {
        "id": "tiXPydHIIOrc",
        "colab_type": "code",
        "colab": {}
      },
      "source": [
        "# check to see if the eye aspect ratio is below the blink threshold, and if so, increment the blink frame counter\n",
        "\t\tif ear < EYE_AR_THRESH:\n",
        "\t\t\tCOUNTER += 1\n",
        " \n",
        "\t\t# otherwise, the eye aspect ratio is not below the blink threshold\n",
        "\t\telse:\n",
        "\t\t\t# if the eyes were closed for a sufficient number of # then increment the total number of blinks\n",
        "\t\t\tif COUNTER >= EYE_AR_CONSEC_FRAMES:\n",
        "\t\t\t\tTOTAL += 1\n",
        " \n",
        "\t\t\t# reset the eye frame counter\n",
        "\t\t\tCOUNTER = 0"
      ],
      "execution_count": 0,
      "outputs": []
    },
    {
      "cell_type": "code",
      "metadata": {
        "id": "D0cDN_lDIaET",
        "colab_type": "code",
        "colab": {}
      },
      "source": [
        "\t# draw the total number of blinks on the frame along with  the computed eye aspect ratio for the frame\n",
        "\t\tcv2.putText(frame, \"Blinks: {}\".format(TOTAL), (10, 30),\n",
        "\t\t\tcv2.FONT_HERSHEY_SIMPLEX, 0.7, (0, 0, 255), 2)\n",
        "\t\tcv2.putText(frame, \"EAR: {:.2f}\".format(ear), (300, 30),\n",
        "\t\t\tcv2.FONT_HERSHEY_SIMPLEX, 0.7, (0, 0, 255), 2)\n",
        " v2.imshow(\"Frame\", frame)\n",
        "\tkey = cv2.waitKey(1) & 0xFF\n",
        " \n",
        "\t\n",
        "\tif key == ord(\"q\"):\n",
        "\t\tbreak\n",
        " \n",
        "# do a bit of cleanup\n",
        "cv2.destroyAllWindows()\n",
        "vs.stop()"
      ],
      "execution_count": 0,
      "outputs": []
    }
  ]
}